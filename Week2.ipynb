{
 "cells": [
  {
   "cell_type": "markdown",
   "metadata": {},
   "source": [
    "# Data Acquisition Week 2"
   ]
  },
  {
   "cell_type": "code",
   "execution_count": 1,
   "metadata": {},
   "outputs": [
    {
     "data": {
      "image/gif": "[encoded data removed]",
      "text/plain": [
       "<IPython.core.display.Image object>"
      ]
     },
     "execution_count": 1,
     "metadata": {},
     "output_type": "execute_result"
    }
   ],
   "source": [
    "#!/usr/bin/env python\n",
    "from IPython.display import Latex, HTML, Image\n",
    "\n",
    "Image(url='http://python.org/images/python-logo.gif', embed=True)"
   ]
  },
  {
   "cell_type": "markdown",
   "metadata": {},
   "source": [
    "## *zip() in Python*\n",
    "\n",
    "The purpose of the zip() is to take iterables such as lists, string or dictionaries, make an iterator \n",
    "that aggregates elements based on the iterables passed, and returns and iterator of tuples. In the words \n",
    "the zip() functions takes similar index of multiple containers, so that they can be used as a single entity.\n",
    "\n",
    "### *Sintax:*\n",
    "zip(\\*iterators)\n",
    "\n",
    "### *Parameters:*\n",
    "Iterables or containers ( list, string, dict etc)\n",
    "\n",
    "### *Return Value:*\n",
    "returns a single iteartor object having mapped values from all the containters\n",
    "\n",
    "### Implementation Samples:\n",
    " \n",
    "### initializing lists \n",
    " ```python \n",
    " cars = [ \"mazda\", \"toyota\", \"nissan\", \"bmw\" ] \n",
    " kind = [ \"sedan\", \"suv\", \"sedan\", \"cupe\" ] \n",
    " num_seats = [ 4, 6, 4, 2 ] \n",
    " \n",
    "# using zip() to map values \n",
    " mapped = zip(cars, kind, kind) \n",
    "\n",
    "# converting values to print as set \n",
    " mapped = set(mapped) \n",
    "```\n",
    "#### Output\n",
    " The zipped result is : \n",
    " ```python \n",
    "{('mazda', 'sedan', 4), ('toyota', 'suv', 6),('nissan', 'sedan', 4), ('bmw', 'cupe', 2)} ```"
   ]
  },
  {
   "cell_type": "markdown",
   "metadata": {},
   "source": [
    "### Table Reprentation\n",
    " \n",
    "| Cars      | Kind      | Number of Seats  |\n",
    "| ----------|:---------:| ----------------:|\n",
    "| mazda     | sedan     |                4 |\n",
    "| toyota    | suv       |                6 |\n",
    "| nissan    | seda      |                4 |\n",
    "| bmw       | cupe      |                2 |"
   ]
  },
  {
   "cell_type": "code",
   "execution_count": 2,
   "metadata": {},
   "outputs": [
    {
     "name": "stdout",
     "output_type": "stream",
     "text": [
      "Player :  Sachin     Score : 100\n",
      "Player :  Sehwag     Score : 15\n",
      "Player :  Gambhir     Score : 17\n",
      "Player :  Dravid     Score : 28\n",
      "Player :  Raina     Score : 43\n"
     ]
    }
   ],
   "source": [
    "# Python code to demonstrate the application of  \n",
    "# zip() \n",
    "  \n",
    "# initializing list of players. \n",
    "players = [ \"Sachin\", \"Sehwag\", \"Gambhir\", \"Dravid\", \"Raina\" ] \n",
    "  \n",
    "# initializing their scores \n",
    "scores = [100, 15, 17, 28, 43 ] \n",
    "  \n",
    "# printing players and scores. \n",
    "for pl, sc in zip(players, scores): \n",
    "    print (\"Player :  %s     Score : %d\" %(pl, sc))"
   ]
  }
 ],
 "metadata": {
  "kernelspec": {
   "display_name": "Python 3",
   "language": "python",
   "name": "python3"
  },
  "language_info": {
   "codemirror_mode": {
    "name": "ipython",
    "version": 3
   },
   "file_extension": ".py",
   "mimetype": "text/x-python",
   "name": "python",
   "nbconvert_exporter": "python",
   "pygments_lexer": "ipython3",
   "version": "3.7.3"
  }
 },
 "nbformat": 4,
 "nbformat_minor": 2
}
